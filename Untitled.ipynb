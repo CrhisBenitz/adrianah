{
 "cells": [
  {
   "cell_type": "code",
   "execution_count": 190,
   "metadata": {},
   "outputs": [],
   "source": [
    "?re.findall"
   ]
  },
  {
   "cell_type": "code",
   "execution_count": 192,
   "metadata": {},
   "outputs": [],
   "source": [
    "import glob\n",
    "import sys\n",
    "import subprocess as sp\n",
    "import numpy as np\n",
    "import re\n",
    "\n",
    "def func_fill_html(dict_blanks,html_file_blank,html_file):\n",
    "\n",
    "    f = open(html_file_blank)\n",
    "    text_chunk = f.read()\n",
    "    f.close()\n",
    "\n",
    "    for key, value in dict_blanks.items():\n",
    "        text_chunk = text_chunk.replace(key+\"_blank\",value)\n",
    "\n",
    "    with open(html_file, 'w') as f:\n",
    "        f.write(text_chunk)\n",
    "        \n",
    "def get_title_desc(path_to_txt):\n",
    "\n",
    "    f = open(path_to_txt)\n",
    "    text_chunk = f.read()\n",
    "    f.close()\n",
    "    title_a,desc_a = re.findall(\"Title: (.*)\",text_chunk), re.findall(\"Desc: (.*)\",text_chunk,re.DOTALL)\n",
    "    title, desc = \"\", \"\"\n",
    "    if title_a:\n",
    "        title = title_a[0]\n",
    "    if desc_a:\n",
    "        desc = desc_a[0]\n",
    "    return title, desc"
   ]
  },
  {
   "cell_type": "code",
   "execution_count": 195,
   "metadata": {},
   "outputs": [],
   "source": [
    "pages = sorted([pages.split(\"/\")[-1] for pages in glob.glob(full_path+\"*\")])\n",
    "nav_bar_string = \"\"\n",
    "htmls = []\n",
    "ddick = {p:{} for p in pages}\n",
    "\n",
    "for page in pages:\n",
    "    if page!=\"home\":\n",
    "        new_generic_html = \"/home/crhis/GH/websites/adrianah/docs/\" + page+\".html\"\n",
    "        nav_bar_string = nav_bar_string + \"<li><a href=\" + page.replace(\" \",\"_\")+\".html\" + \">\" + page +  \"</a></li>\"+\"\\n\"\n",
    "        htmls.append(new_generic_html)\n",
    "\n",
    "for page in pages:\n",
    "    images_main_string = \"\"\n",
    "    \n",
    "    cols = sorted([c.split(\"/\")[-1] for c in glob.glob(full_path+page+\"/*\")])\n",
    "    ncols = len(cols)\n",
    "    \n",
    "    ims = [sorted([c.split(\"/\")[-1] for c in glob.glob(full_path+page+\"/\"+col+\"/*.jpg\")]) for col in cols]\n",
    "    nims = [len(im) for im in ims]\n",
    "    for j in range(max(nims)):\n",
    "        for i in range(ncols):\n",
    "            if nims[i]>j:\n",
    "                \n",
    "                \n",
    "                title,desc = get_title_desc(full_path+page+\"/\"+cols[i]+\"/\"+ims[i][j].split(\".\")[0]+\".txt\")\n",
    "                sims = \"<article class=\\\"thumb\\\" style=\\\"width:\"\n",
    "                sims = sims+ str(100/ncols) + \"%;\\\">\\n\"\n",
    "                sims = sims + \"<a href=\\\"contenido/\" + page + \"/\" + cols[i] + \"/\" + ims[i][j] + \"\\\" class=\\\"image\\\">\"\n",
    "                sims = sims + \"<img src=\\\"contenido/\" + page.replace(\" \",\"\\ \") + \"/\" + cols[i] + \"/\" + ims[i][j] +\"\\\" alt=\\\"\\\" /></a>\\n\"\n",
    "                sims = sims + \"<h2>\" + title + \"</h2>\\n\"\n",
    "                sims = sims + \"<p>\" + desc + \"</p>\\n\"\n",
    "                sims = sims + \"</article>\"\n",
    "                images_main_string = images_main_string + sims\n",
    "            else:\n",
    "                images_main_string = images_main_string + \"<article class=\\\"thumb-empty\\\" style=\\\"width:\" + str(100/ncols) + \"%;\\\">\\n</article>\"\n",
    "    \n",
    "    ddick[page][\"images_main\"] = images_main_string\n",
    "    ddick[page][\"navbar_list\"] = nav_bar_string"
   ]
  },
  {
   "cell_type": "code",
   "execution_count": 196,
   "metadata": {},
   "outputs": [],
   "source": [
    "for page in pages:\n",
    "    if page!=\"home\":\n",
    "        func_fill_html(ddick[page],\"/home/crhis/GH/websites/adrianah/docs/generic_blank.html\",\"/home/crhis/GH/websites/adrianah/docs/\"+page.replace(\" \",\"_\")+\".html\")\n",
    "    else:\n",
    "        func_fill_html(ddick[page],\"/home/crhis/GH/websites/adrianah/docs/index_blank.html\",\"/home/crhis/GH/websites/adrianah/docs/index.html\")\n"
   ]
  },
  {
   "cell_type": "code",
   "execution_count": null,
   "metadata": {},
   "outputs": [],
   "source": [
    "def func_fill_html(dict_blanks,html_file_blank,html_file):\n",
    "\n",
    "    f = open(html_file_blank)\n",
    "    text_chunk = f.read()\n",
    "    f.close()\n",
    "\n",
    "    for key, value in dict_blanks.items():\n",
    "        text_chunk = text_chunk.replace(key+\"blank\",value)\n",
    "\n",
    "    with open(html_file, 'w') as f:\n",
    "        f.write(text_chunk)"
   ]
  }
 ],
 "metadata": {
  "kernelspec": {
   "display_name": "Python 3",
   "language": "python",
   "name": "python3"
  },
  "language_info": {
   "codemirror_mode": {
    "name": "ipython",
    "version": 3
   },
   "file_extension": ".py",
   "mimetype": "text/x-python",
   "name": "python",
   "nbconvert_exporter": "python",
   "pygments_lexer": "ipython3",
   "version": "3.9.12"
  }
 },
 "nbformat": 4,
 "nbformat_minor": 2
}
